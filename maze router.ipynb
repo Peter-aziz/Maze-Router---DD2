{
 "cells": [
  {
   "cell_type": "markdown",
   "metadata": {},
   "source": [
    "# Maze Router - run 1.0"
   ]
  },
  {
   "cell_type": "markdown",
   "metadata": {},
   "source": [
    "### function to open file and extract data"
   ]
  },
  {
   "cell_type": "code",
   "execution_count": null,
   "metadata": {},
   "outputs": [],
   "source": [
    "def parse_input_file(filename):\n",
    "    grid_size = None\n",
    "    obstacles = []\n",
    "    nets = {}\n",
    "    \n",
    "    with open(filename, 'r') as f:\n",
    "        lines = f.readlines()\n",
    "        \n",
    "    grid_size = lines[0].strip().split('x')\n",
    "    width, height = int(grid_size[0]), int(grid_size[1])\n",
    "\n",
    "    for line in lines[1:]:\n",
    "        if line.startswith('OBS'):\n",
    "            # Parse obstacle coordinates\n",
    "            coords = line.strip()[5:-1].split(',')\n",
    "            x, y = int(coords[0]), int(coords[1])\n",
    "            obstacles.append((x, y))\n",
    "        else:\n",
    "            # Parse net definition\n",
    "            parts = line.strip().split()\n",
    "            net_name = parts[0]\n",
    "            pins = []\n",
    "            \n",
    "            for pin_def in parts[1:]:\n",
    "                pin_def = pin_def[1:-1]  \n",
    "                layer, x, y = map(int, pin_def.split(','))\n",
    "                pins.append((layer, x, y))\n",
    "                \n",
    "            nets[net_name] = pins\n",
    "            \n",
    "    return width, height, obstacles, nets\n"
   ]
  },
  {
   "cell_type": "markdown",
   "metadata": {},
   "source": [
    "### creating the grid and putting 0s everywhere"
   ]
  },
  {
   "cell_type": "code",
   "execution_count": null,
   "metadata": {},
   "outputs": [],
   "source": [
    "grid = []  \n",
    "for layer_index in range(2):\n",
    "    layer = []  \n",
    "    for y in range(height):\n",
    "        row = []  \n",
    "        for x in range(width):\n",
    "            row.append(0)  \n",
    "        layer.append(row)\n",
    "    grid.append(layer)\n",
    "\n",
    "VIA_COST = 50  \n",
    "WRONG_DIRECTION_COST = 20  "
   ]
  },
  {
   "cell_type": "code",
   "execution_count": null,
   "metadata": {},
   "outputs": [
    {
     "name": "stdout",
     "output_type": "stream",
     "text": [
      "1 4 5\n"
     ]
    }
   ],
   "source": [
    "# test \n",
    "line  = \"NET1 (1,2,3) (1,4,5)\"\n",
    "parts = line.strip().split()\n",
    "net_name = parts[0]\n",
    "pins = []\n",
    "ss = parts[2][1:-1]\n",
    "layer, x, y = map(int, ss.split(','))\n",
    "print(layer, x, y)\n",
    "\n",
    "for pin_def in parts[1:]:\n",
    "    pin_def = pin_def[1:-1]  # Remove parentheses\n",
    "    layer, x, y = map(int, pin_def.split(','))\n",
    "    pins.append((layer, x, y))\n",
    "\n"
   ]
  },
  {
   "cell_type": "markdown",
   "metadata": {},
   "source": [
    "### Lee's Algorithm "
   ]
  },
  {
   "cell_type": "code",
   "execution_count": null,
   "metadata": {},
   "outputs": [],
   "source": [
    "def lee_algorithm(grid, source, target, via_cost, wrong_direction_cost):\n",
    "    # Initialize\n",
    "    queue = deque([source])\n",
    "    visited = set([source])\n",
    "    parent = {source: None}\n",
    "    costs = {source: 0}\n",
    "    \n",
    "    source_layer, source_x, source_y = source\n",
    "    target_layer, target_x, target_y = target\n",
    "    # Wave propagation phase"
   ]
  }
 ],
 "metadata": {
  "kernelspec": {
   "display_name": "Python 3",
   "language": "python",
   "name": "python3"
  },
  "language_info": {
   "codemirror_mode": {
    "name": "ipython",
    "version": 3
   },
   "file_extension": ".py",
   "mimetype": "text/x-python",
   "name": "python",
   "nbconvert_exporter": "python",
   "pygments_lexer": "ipython3",
   "version": "3.11.2"
  }
 },
 "nbformat": 4,
 "nbformat_minor": 2
}
